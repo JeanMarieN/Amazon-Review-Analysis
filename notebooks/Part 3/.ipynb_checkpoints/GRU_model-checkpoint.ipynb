{
 "cells": [
  {
   "cell_type": "code",
   "execution_count": 2,
   "metadata": {
    "scrolled": true
   },
   "outputs": [],
   "source": [
    "import pandas as pd\n",
    "import numpy as np\n",
    "from collections import Counter\n",
    "from ast import literal_eval"
   ]
  },
  {
   "cell_type": "code",
   "execution_count": 3,
   "metadata": {},
   "outputs": [],
   "source": [
    "train = pd.read_csv('../../../../data/processed/tok_phase1_train80.csv')\n",
    "validate = pd.read_csv('../../../../data/processed/tok_phase1_validate10.csv')\n",
    "test = pd.read_csv('../../../../data/processed/tok_phase1_test10.csv')"
   ]
  },
  {
   "cell_type": "code",
   "execution_count": 4,
   "metadata": {},
   "outputs": [],
   "source": [
    "# simplify by only working on small data set\n",
    "train = train.head(9000)"
   ]
  },
  {
   "cell_type": "code",
   "execution_count": 5,
   "metadata": {},
   "outputs": [
    {
     "name": "stdout",
     "output_type": "stream",
     "text": [
      "CPU times: user 8.23 s, sys: 83.3 ms, total: 8.31 s\n",
      "Wall time: 8.31 s\n"
     ]
    }
   ],
   "source": [
    "%%time\n",
    "for frame in [train, validate, test]:\n",
    "    for col in ['summary_tokens', 'review_tokens']:\n",
    "        frame[col] = frame[col].map(literal_eval)"
   ]
  },
  {
   "cell_type": "code",
   "execution_count": 6,
   "metadata": {},
   "outputs": [],
   "source": [
    "# social science coding random sampling code\n",
    "\n",
    "# np.random.seed(1980)\n",
    "# row_i = np.random.randint(0, high=len(df), size=20)\n",
    "# for i in row_i:\n",
    "#     print(\"Polarity: \", df.at[i, 'polarity'])\n",
    "#     print(\"Year: \", df.at[i, 'year'])\n",
    "#     print(\"Summary: \", df.at[i, 'summary'])\n",
    "#     print()\n",
    "#     print(\"Review: \", df.at[i, 'reviewText'])\n",
    "#     print()"
   ]
  },
  {
   "cell_type": "markdown",
   "metadata": {},
   "source": [
    "# Preprocessing"
   ]
  },
  {
   "cell_type": "code",
   "execution_count": 7,
   "metadata": {},
   "outputs": [],
   "source": [
    "pad_mask_int = 0\n",
    "pad_mask_sym = '==pad_mask=='\n",
    "# padleft_int = 0\n",
    "# padleft_sym = '==padleft_sym=='\n",
    "# padright_int = 1\n",
    "# padright_sym = '==padright_sym=='\n",
    "unknown_int = 1\n",
    "unknown_sym = '==unknown_sym=='"
   ]
  },
  {
   "cell_type": "code",
   "execution_count": 8,
   "metadata": {},
   "outputs": [
    {
     "name": "stdout",
     "output_type": "stream",
     "text": [
      "59852 tokens before discarding those that appear less than 11 times.\n",
      "9958 tokens after discarding those that appear less than 11 times.\n"
     ]
    }
   ],
   "source": [
    "# vocabulary set\n",
    "vocab_counter = Counter()\n",
    "for doc in train['summary_tokens']:\n",
    "    vocab_counter.update(doc)\n",
    "for doc in train['review_tokens']:\n",
    "    vocab_counter.update(doc)    \n",
    "\n",
    "min_times_word_used = 11 # if at least 2 then the model will be prepared for unknown words in test and validation sets\n",
    "print(len(vocab_counter), \"tokens before discarding those that appear less than {} times.\".format(min_times_word_used))\n",
    "for key in list(vocab_counter.keys()):\n",
    "    if vocab_counter[key] < min_times_word_used: \n",
    "        vocab_counter.pop(key)\n",
    "print(len(vocab_counter), \"tokens after discarding those that appear less than {} times.\".format(min_times_word_used))   \n",
    "vocab_set = set(vocab_counter.keys())"
   ]
  },
  {
   "cell_type": "code",
   "execution_count": 9,
   "metadata": {},
   "outputs": [],
   "source": [
    "# vocabulary list and int map\n",
    "vocab_list = [pad_mask_sym, unknown_sym] + sorted(vocab_set)\n",
    "vocab_map = {word: index for index, word in enumerate(vocab_list)}"
   ]
  },
  {
   "cell_type": "code",
   "execution_count": 10,
   "metadata": {},
   "outputs": [
    {
     "name": "stdout",
     "output_type": "stream",
     "text": [
      "==unknown_sym==\n"
     ]
    },
    {
     "data": {
      "text/plain": [
       "1"
      ]
     },
     "execution_count": 10,
     "metadata": {},
     "output_type": "execute_result"
    }
   ],
   "source": [
    "print(vocab_list[1])\n",
    "vocab_map['==unknown_sym==']"
   ]
  },
  {
   "cell_type": "code",
   "execution_count": 11,
   "metadata": {},
   "outputs": [],
   "source": [
    "# label set\n",
    "label_set = set(train['polarity'].unique())"
   ]
  },
  {
   "cell_type": "code",
   "execution_count": 12,
   "metadata": {},
   "outputs": [],
   "source": [
    "# label list and int map\n",
    "label_list = sorted(label_set)\n",
    "label_map = {word: index for index, word in enumerate(label_list)}"
   ]
  },
  {
   "cell_type": "code",
   "execution_count": 13,
   "metadata": {},
   "outputs": [],
   "source": [
    "# polarity to 0 / 1"
   ]
  },
  {
   "cell_type": "code",
   "execution_count": 14,
   "metadata": {},
   "outputs": [],
   "source": [
    "from scipy import sparse \n",
    "\n",
    "def create_one_hot(labels, label_dict):\n",
    "    \"\"\"\n",
    "    \n",
    "    Args:\n",
    "        labels:        list of labels\n",
    "        label_dict:    dict of label indices\n",
    "    Return:\n",
    "        one_hot_numpy: sparse CSR 2d array of one-hot vectors\n",
    "    \"\"\"\n",
    "    one_hot_numpy = sparse.dok_matrix((len(labels), len(label_dict)), dtype=np.int8)\n",
    "    for i, label in enumerate(labels):\n",
    "        one_hot_numpy[i, label_dict[label]] = 1\n",
    "    return sparse.csr_matrix(one_hot_numpy) \n",
    "\n",
    "def undo_one_hot(pred, label_list):\n",
    "    \"\"\"\n",
    "    \n",
    "    Args: \n",
    "        pred: NumPy array of one-hot predicted classes\n",
    "        label_list: a list of the label strings\n",
    "    Return:\n",
    "        label_pred: an NumPy array of predicted labels\n",
    "    \"\"\"\n",
    "    labels = np.array(label_list)\n",
    "    label_pred = labels[np.argmax(pred, axis=1)]\n",
    "    return label_pred"
   ]
  },
  {
   "cell_type": "code",
   "execution_count": 15,
   "metadata": {},
   "outputs": [],
   "source": [
    "y_train = create_one_hot(train['polarity'], label_map)\n",
    "y_validate = create_one_hot(validate['polarity'], label_map)\n",
    "y_test = create_one_hot(test['polarity'], label_map)"
   ]
  },
  {
   "cell_type": "code",
   "execution_count": 16,
   "metadata": {},
   "outputs": [
    {
     "data": {
      "text/plain": [
       "matrix([[1, 0],\n",
       "        [1, 0],\n",
       "        [1, 0],\n",
       "        ...,\n",
       "        [1, 0],\n",
       "        [1, 0],\n",
       "        [0, 1]], dtype=int8)"
      ]
     },
     "execution_count": 16,
     "metadata": {},
     "output_type": "execute_result"
    }
   ],
   "source": [
    "y_train.todense()"
   ]
  },
  {
   "cell_type": "code",
   "execution_count": 17,
   "metadata": {},
   "outputs": [],
   "source": [
    "# replace strings with ints \n",
    "from typing import List, Set, Dict, Tuple, Optional\n",
    "\n",
    "def word_index(los: List[List[str]], vocab_dict: Dict[str, int], unknown: int, reverse: bool=False) -> List[List[int]]:\n",
    "    \"\"\"\n",
    "    Replaces words with integers from a vocabulary dictionary or else with 1+ number of keys in dictionary\n",
    "    \n",
    "    Args:\n",
    "        los: list of lists of split sentences\n",
    "        pad_to: how big to make the padded list\n",
    "    Returns: \n",
    "        new_los: list of lists of split sentences wrapped around\n",
    "        \n",
    "    Examples:\n",
    "    print(word_index([['one', 'two', 'three'], ['one', 'two']], {'one': 1, 'two': 2, 'three': 3}))\n",
    "    \"\"\"\n",
    "    new_los = []\n",
    "    if reverse:\n",
    "        for sentence in los:\n",
    "            new_los.append(reversed([vocab_dict[word] if word in vocab_dict else unknown for word in sentence]))        \n",
    "    else:\n",
    "        for sentence in los:\n",
    "            new_los.append([vocab_dict[word] if word in vocab_dict else unknown for word in sentence])\n",
    "    return new_los"
   ]
  },
  {
   "cell_type": "code",
   "execution_count": 18,
   "metadata": {},
   "outputs": [
    {
     "name": "stdout",
     "output_type": "stream",
     "text": [
      "[[1, 2, 3], [1, 2]]\n"
     ]
    }
   ],
   "source": [
    "print(word_index([['one', 'two', 'three'], ['one', 'two']], {'one': 1, 'two': 2, 'three': 3}, unknown=4))"
   ]
  },
  {
   "cell_type": "code",
   "execution_count": 19,
   "metadata": {},
   "outputs": [],
   "source": [
    "train_summary = word_index(train['summary_tokens'], vocab_map, unknown_int)\n",
    "train_review = word_index(train['review_tokens'], vocab_map, unknown_int) \n",
    "\n",
    "validate_summary = word_index(validate['summary_tokens'], vocab_map, unknown_int)\n",
    "validate_review = word_index(validate['review_tokens'], vocab_map, unknown_int) \n",
    "\n",
    "test_summary = word_index(test['summary_tokens'], vocab_map, unknown_int)\n",
    "test_review = word_index(test['review_tokens'], vocab_map, unknown_int) "
   ]
  },
  {
   "cell_type": "code",
   "execution_count": 20,
   "metadata": {},
   "outputs": [],
   "source": [
    "# pad / truncate \n",
    "from keras.preprocessing.sequence import pad_sequences\n",
    "\n",
    "summary_len = max(map(len, list(train['summary_tokens'])))\n",
    "review_len = 500\n",
    "\n",
    "train_summary = pad_sequences(sequences=train_summary, \n",
    "                              maxlen=summary_len, \n",
    "                              dtype='int32', \n",
    "                              padding='pre', \n",
    "                              value=pad_mask_int)\n",
    "train_review = pad_sequences(sequences=train_review, \n",
    "                             maxlen=review_len, \n",
    "                             dtype='int32', \n",
    "                             padding='pre',\n",
    "                             truncating='pre',\n",
    "                             value=pad_mask_int)\n",
    "\n",
    "validate_summary = pad_sequences(sequences=validate_summary, \n",
    "                              maxlen=summary_len, \n",
    "                              dtype='int32', \n",
    "                              padding='pre', \n",
    "                              value=pad_mask_int)\n",
    "validate_review = pad_sequences(sequences=validate_review, \n",
    "                             maxlen=review_len, \n",
    "                             dtype='int32', \n",
    "                             padding='pre',\n",
    "                             truncating='pre',\n",
    "                             value=pad_mask_int)\n",
    "\n",
    "test_summary = pad_sequences(sequences=test_summary, \n",
    "                              maxlen=summary_len, \n",
    "                              dtype='int32', \n",
    "                              padding='pre', \n",
    "                              value=pad_mask_int)\n",
    "test_review = pad_sequences(sequences=test_review, \n",
    "                             maxlen=review_len, \n",
    "                             dtype='int32', \n",
    "                             padding='pre',\n",
    "                             truncating='pre',\n",
    "                             value=pad_mask_int)"
   ]
  },
  {
   "cell_type": "code",
   "execution_count": 21,
   "metadata": {
    "scrolled": false
   },
   "outputs": [
    {
     "name": "stdout",
     "output_type": "stream",
     "text": [
      "33\n",
      "2740\n",
      "9960\n"
     ]
    }
   ],
   "source": [
    "print(max(map(len, list(train['summary_tokens']))))\n",
    "print(max(map(len, list(train['review_tokens']))))\n",
    "print(len(vocab_list))\n",
    "# could simplify this now we have a wc column"
   ]
  },
  {
   "cell_type": "code",
   "execution_count": 22,
   "metadata": {},
   "outputs": [],
   "source": [
    "# one-hot if not using embeddings (a Keras embedding layer can actually also do one-hot for you so...)"
   ]
  },
  {
   "cell_type": "markdown",
   "metadata": {},
   "source": [
    "# Model"
   ]
  },
  {
   "cell_type": "code",
   "execution_count": 23,
   "metadata": {},
   "outputs": [],
   "source": [
    "import keras.optimizers\n",
    "from keras.datasets import imdb\n",
    "from keras.models import Model, Sequential\n",
    "from keras.layers import Input, Dense, Concatenate \n",
    "from keras.layers import LSTM, GRU, CuDNNGRU\n",
    "from keras.layers.embeddings import Embedding\n",
    "from keras.constraints import maxnorm\n",
    "from keras.preprocessing import sequence\n",
    "from keras.callbacks import EarlyStopping\n",
    "\n",
    "# fix random seed for reproducibility - only works for CPU version of tensorflow\n",
    "np.random.seed(42)"
   ]
  },
  {
   "cell_type": "code",
   "execution_count": 25,
   "metadata": {},
   "outputs": [],
   "source": [
    "import matplotlib.pyplot as plt\n",
    "import sklearn.metrics\n",
    "import itertools\n",
    "\n",
    "def plot_results(losses, accuracies):\n",
    "    fig,ax = plt.subplots(1,2,figsize=[12,2])\n",
    "    ax[0].plot(losses)\n",
    "    ax[0].set_ylabel('loss')\n",
    "    ax[0].set_xlabel('iteration');\n",
    "    ax[1].plot(accuracies);\n",
    "    ax[1].set_ylabel('accuracy')\n",
    "    ax[1].set_xlabel('iteration');\n",
    "    \n",
    "    \n",
    "def plot_confusion_matrix(cm, classes,\n",
    "                          normalize=False,\n",
    "                          title='Confusion matrix',\n",
    "                          cmap=plt.cm.Blues):\n",
    "    \"\"\"\n",
    "    From: https://scikit-learn.org/stable/auto_examples/model_selection/plot_confusion_matrix.html\n",
    "    \n",
    "    This function prints and plots the confusion matrix.\n",
    "    Normalization can be applied by setting `normalize=True`.\n",
    "    \"\"\"\n",
    "    if normalize:\n",
    "        cm = cm.astype('float') / cm.sum(axis=1)[:, np.newaxis]\n",
    "#        print(\"Normalized confusion matrix\")\n",
    "#    else:\n",
    "#        print('Confusion matrix, without normalization')\n",
    "#\n",
    "#    print(cm)\n",
    "\n",
    "    plt.imshow(cm, interpolation='nearest', cmap=cmap)\n",
    "    plt.title(title)\n",
    "    plt.colorbar()\n",
    "    tick_marks = np.arange(len(classes))\n",
    "    plt.xticks(tick_marks, classes, rotation=90)\n",
    "    plt.yticks(tick_marks, classes)\n",
    "\n",
    "    fmt = '.2f' if normalize else 'd'\n",
    "    thresh = cm.max() / 2.\n",
    "    for i, j in itertools.product(range(cm.shape[0]), range(cm.shape[1])):\n",
    "        if cm[i, j] != 0:\n",
    "            plt.text(j, i, format(cm[i, j], fmt),\n",
    "                     horizontalalignment=\"center\",\n",
    "                     color=\"white\" if cm[i, j] > thresh else \"black\")\n",
    "\n",
    "    plt.ylabel('True label')\n",
    "    plt.xlabel('Predicted label')\n",
    "    plt.tight_layout()\n",
    "    \n",
    "    \n",
    "def plot_confusion(y, y_pred, label_list) -> None:\n",
    "    \"\"\"\n",
    "    Args:\n",
    "        y: true labels\n",
    "        y_pred: predicted labels\n",
    "        label_list: ordered iterable of labels\n",
    "    \"\"\"\n",
    "    # Compute confusion matrix\n",
    "    cnf_matrix = sklearn.metrics.confusion_matrix(y, y_pred, labels=label_list)\n",
    "    np.set_printoptions(precision=2)\n",
    "\n",
    "    # Plot non-normalized confusion matrix\n",
    "    plt.figure()\n",
    "    plt.figure(figsize=(13,10))\n",
    "    plot_confusion_matrix(cnf_matrix, classes=label_list,\n",
    "                          title='Confusion matrix, without normalization')\n",
    "\n",
    "    # Plot normalized confusion matrix\n",
    "    plt.figure()\n",
    "    plt.figure(figsize=(13,10))\n",
    "    plot_confusion_matrix(cnf_matrix, classes=label_list, normalize=True,\n",
    "                          title='Normalized confusion matrix')\n",
    "\n",
    "    plt.show()"
   ]
  },
  {
   "cell_type": "code",
   "execution_count": 27,
   "metadata": {},
   "outputs": [
    {
     "name": "stdout",
     "output_type": "stream",
     "text": [
      "Loaded 1917494 word vectors.\n",
      "CPU times: user 1min 38s, sys: 1.79 s, total: 1min 40s\n",
      "Wall time: 1min 40s\n"
     ]
    }
   ],
   "source": [
    "%%time\n",
    "# pretrained embeddings are from https://nlp.stanford.edu/projects/glove/\n",
    "# start by loading in the embedding matrix\n",
    "# load the whole embedding into memory\n",
    "embeddings_index = dict()\n",
    "with open('../../../../data/external/glove.42B.300d.txt') as f:\n",
    "    for line in f:\n",
    "        values = line.split()\n",
    "        word = values[0]\n",
    "        coefs = np.asarray(values[1:], dtype='float32')\n",
    "        embeddings_index[word] = coefs\n",
    "print('Loaded %s word vectors.' % len(embeddings_index))\n",
    "\n",
    "embedding_dim = 300"
   ]
  },
  {
   "cell_type": "code",
   "execution_count": 28,
   "metadata": {},
   "outputs": [
    {
     "name": "stdout",
     "output_type": "stream",
     "text": [
      "==pad_mask==\n",
      "==unknown_sym==\n",
      "):\n",
      ");\n",
      "*\n",
      ".  ...\n",
      ". .\n",
      ". . .\n",
      ". ...\n",
      "..\n",
      "8/\n",
      ":(\n",
      ":D\n",
      ":P\n",
      "_possessivetag_\n",
      "ba'ku\n",
      "did'nt\n",
      "dvd's\n",
      "wouldonnell\n",
      "�\n",
      "Failed to find 20 out of 9960 tokens.\n"
     ]
    }
   ],
   "source": [
    "# create a weight matrix for words in training docs\n",
    "embedding_matrix = np.zeros((len(vocab_list), embedding_dim))\n",
    "count = 0\n",
    "for i, word in enumerate(vocab_list):\n",
    "    embedding_vector = embeddings_index.get(word)\n",
    "    if embedding_vector is not None:\n",
    "        embedding_matrix[i] = embedding_vector\n",
    "    else:\n",
    "        count += 1\n",
    "        print(word)\n",
    "print(\"Failed to find {} out of {} tokens.\".format(count, len(vocab_list)))"
   ]
  },
  {
   "cell_type": "code",
   "execution_count": 26,
   "metadata": {},
   "outputs": [],
   "source": [
    "del embeddings_index"
   ]
  },
  {
   "cell_type": "code",
   "execution_count": null,
   "metadata": {},
   "outputs": [],
   "source": []
  },
  {
   "cell_type": "code",
   "execution_count": 43,
   "metadata": {},
   "outputs": [
    {
     "name": "stdout",
     "output_type": "stream",
     "text": [
      "__________________________________________________________________________________________________\n",
      "Layer (type)                    Output Shape         Param #     Connected to                     \n",
      "==================================================================================================\n",
      "input_s (InputLayer)            (None, 33)           0                                            \n",
      "__________________________________________________________________________________________________\n",
      "input_r (InputLayer)            (None, 500)          0                                            \n",
      "__________________________________________________________________________________________________\n",
      "embedding_6 (Embedding)         multiple             2988000     input_s[0][0]                    \n",
      "                                                                 input_r[0][0]                    \n",
      "__________________________________________________________________________________________________\n",
      "cu_dnngru_8 (CuDNNGRU)          (None, 100)          120600      embedding_6[0][0]                \n",
      "__________________________________________________________________________________________________\n",
      "cu_dnngru_9 (CuDNNGRU)          (None, 100)          120600      embedding_6[1][0]                \n",
      "__________________________________________________________________________________________________\n",
      "concatenate_5 (Concatenate)     (None, 200)          0           cu_dnngru_8[0][0]                \n",
      "                                                                 cu_dnngru_9[0][0]                \n",
      "__________________________________________________________________________________________________\n",
      "dense_5 (Dense)                 (None, 2)            402         concatenate_5[0][0]              \n",
      "==================================================================================================\n",
      "Total params: 241,602\n",
      "Trainable params: 241,602\n",
      "Non-trainable params: 0\n",
      "__________________________________________________________________________________________________\n",
      "None\n",
      "Train on 9000 samples, validate on 9000 samples\n",
      "Epoch 1/50\n",
      "9000/9000 [==============================] - 12s 1ms/step - loss: 0.5679 - acc: 0.6993 - val_loss: 0.7775 - val_acc: 0.6163\n",
      "Epoch 2/50\n",
      "9000/9000 [==============================] - 3s 344us/step - loss: 0.4240 - acc: 0.8014 - val_loss: 0.4182 - val_acc: 0.8056\n",
      "Epoch 3/50\n",
      "9000/9000 [==============================] - 3s 346us/step - loss: 0.3494 - acc: 0.8476 - val_loss: 0.3284 - val_acc: 0.8578\n",
      "Epoch 4/50\n",
      "9000/9000 [==============================] - 3s 344us/step - loss: 0.2945 - acc: 0.8733 - val_loss: 0.2962 - val_acc: 0.8749\n",
      "Epoch 5/50\n",
      "9000/9000 [==============================] - 3s 344us/step - loss: 0.2622 - acc: 0.8900 - val_loss: 0.3002 - val_acc: 0.8751\n",
      "Epoch 6/50\n",
      "9000/9000 [==============================] - 3s 344us/step - loss: 0.2339 - acc: 0.9034 - val_loss: 0.2822 - val_acc: 0.8851\n",
      "Epoch 7/50\n",
      "9000/9000 [==============================] - 3s 345us/step - loss: 0.2144 - acc: 0.9122 - val_loss: 0.2772 - val_acc: 0.8838\n",
      "Epoch 8/50\n",
      "9000/9000 [==============================] - 3s 344us/step - loss: 0.1949 - acc: 0.9209 - val_loss: 0.3360 - val_acc: 0.8629\n",
      "Epoch 9/50\n",
      "9000/9000 [==============================] - 3s 346us/step - loss: 0.1840 - acc: 0.9258 - val_loss: 0.2694 - val_acc: 0.8913\n",
      "Epoch 10/50\n",
      "9000/9000 [==============================] - 3s 344us/step - loss: 0.1687 - acc: 0.9328 - val_loss: 0.2803 - val_acc: 0.8930\n",
      "Epoch 11/50\n",
      "9000/9000 [==============================] - 3s 345us/step - loss: 0.1496 - acc: 0.9416 - val_loss: 0.2841 - val_acc: 0.8890\n",
      "Epoch 12/50\n",
      "9000/9000 [==============================] - 3s 344us/step - loss: 0.1370 - acc: 0.9470 - val_loss: 0.3471 - val_acc: 0.8729\n",
      "Epoch 00012: early stopping\n",
      "Train on 9000 samples, validate on 9000 samples\n",
      "Epoch 1/50\n",
      "9000/9000 [==============================] - 12s 1ms/step - loss: 0.3553 - acc: 0.8954 - val_loss: 0.2705 - val_acc: 0.8937\n",
      "Epoch 2/50\n",
      "9000/9000 [==============================] - 3s 373us/step - loss: 0.0729 - acc: 0.9758 - val_loss: 0.3110 - val_acc: 0.8901\n",
      "Epoch 3/50\n",
      "9000/9000 [==============================] - 3s 374us/step - loss: 0.0230 - acc: 0.9948 - val_loss: 0.3653 - val_acc: 0.8903\n",
      "Epoch 4/50\n",
      "9000/9000 [==============================] - 3s 372us/step - loss: 0.0087 - acc: 0.9984 - val_loss: 0.4641 - val_acc: 0.8841\n",
      "Epoch 00004: early stopping\n",
      "CPU times: user 1min 13s, sys: 4.96 s, total: 1min 17s\n",
      "Wall time: 1min 20s\n"
     ]
    }
   ],
   "source": [
    "%%time\n",
    "# Keras functional API for joined model with CuDNNGRU \n",
    "input_s = Input(shape=(summary_len,), dtype='int32', name='input_s')\n",
    "input_r = Input(shape=(review_len,), dtype='int32', name='input_r')\n",
    "\n",
    "embedding_vector_length = embedding_dim\n",
    "GRU_nodes_summary = 100\n",
    "GRU_nodes_review = 100\n",
    "\n",
    "# emb_s = Embedding(len(vocab_list), embedding_vector_length, mask_zero=True,\n",
    "#                   input_length=summary_len, weights=[embedding_matrix], trainable=False)(input_s)\n",
    "# emb_r = Embedding(len(vocab_list), embedding_vector_length, mask_zero=True,\n",
    "#                   input_length=review_len, weights=[embedding_matrix], trainable=False)(input_r)\n",
    "\n",
    "emb = Embedding(len(vocab_list), embedding_vector_length, mask_zero=False,\n",
    "                weights=[embedding_matrix], trainable=False)\n",
    "\n",
    "emb_s = emb(input_s)\n",
    "emb_r = emb(input_r)\n",
    "\n",
    "gru_s = CuDNNGRU(GRU_nodes_summary, \n",
    "    kernel_initializer='glorot_uniform',\n",
    "    recurrent_initializer='orthogonal',\n",
    "    bias_initializer='zeros',\n",
    "    kernel_regularizer=None,\n",
    "    recurrent_regularizer=None,\n",
    "    bias_regularizer=None,\n",
    "    activity_regularizer=None,\n",
    "    kernel_constraint=maxnorm(3),\n",
    "    recurrent_constraint=maxnorm(3),\n",
    "    bias_constraint=None,\n",
    "    return_sequences=False,\n",
    "    return_state=False,\n",
    "    go_backwards=False,\n",
    "    stateful=False,)(emb_s)\n",
    "gru_r = CuDNNGRU(GRU_nodes_review,\n",
    "    kernel_initializer='glorot_uniform',\n",
    "    recurrent_initializer='orthogonal',\n",
    "    bias_initializer='zeros',\n",
    "    kernel_regularizer=None,\n",
    "    recurrent_regularizer=None,\n",
    "    bias_regularizer=None,\n",
    "    activity_regularizer=None,\n",
    "    kernel_constraint=maxnorm(3),\n",
    "    recurrent_constraint=maxnorm(3),\n",
    "    bias_constraint=None,\n",
    "    return_sequences=False,\n",
    "    return_state=False,\n",
    "    go_backwards=False,\n",
    "    stateful=False,)(emb_r)\n",
    "\n",
    "concat = Concatenate()([gru_s, gru_r])\n",
    "output = Dense(len(label_set), activation='softmax')(concat)\n",
    "model = Model([input_s, input_r], output)\n",
    "nadam = keras.optimizers.nadam(lr=0.0006)\n",
    "model.compile(loss='categorical_crossentropy', optimizer=nadam, metrics=['accuracy'])\n",
    "\n",
    "# unfrozen embeddings\n",
    "emb.trainable = True\n",
    "thawn = Model([input_s, input_r], output)\n",
    "thawn.compile(loss='categorical_crossentropy', optimizer=nadam, metrics=['accuracy'])\n",
    "\n",
    "print(model.summary())\n",
    "es = EarlyStopping(monitor='val_loss', mode='min', verbose=1, patience=3)\n",
    "hist1 = model.fit(x=[train_summary, train_review], \n",
    "                 y=y_train, \n",
    "                 validation_data=([validate_summary, validate_review], \n",
    "                                  y_validate), \n",
    "                 epochs=50, batch_size=128, callbacks=[es])\n",
    "\n",
    "hist2 = thawn.fit(x=[train_summary, train_review], \n",
    "                 y=y_train, \n",
    "                 validation_data=([validate_summary, validate_review], \n",
    "                                  y_validate), \n",
    "                 epochs=50, batch_size=128, callbacks=[es])"
   ]
  },
  {
   "cell_type": "code",
   "execution_count": 44,
   "metadata": {
    "scrolled": true
   },
   "outputs": [
    {
     "name": "stdout",
     "output_type": "stream",
     "text": [
      "Training loss / accuracy\n"
     ]
    },
    {
     "data": {
      "image/png": "[encoded data removed]",
      "text/plain": [
       "<Figure size 864x144 with 2 Axes>"
      ]
     },
     "metadata": {
      "needs_background": "light"
     },
     "output_type": "display_data"
    }
   ],
   "source": [
    "losses = hist1.history['loss'] + hist2.history['loss']\n",
    "accuracies = hist1.history['acc'] + hist2.history['acc']\n",
    "print(\"Training loss / accuracy\")\n",
    "plot_results(losses,accuracies)"
   ]
  },
  {
   "cell_type": "code",
   "execution_count": 45,
   "metadata": {
    "scrolled": true
   },
   "outputs": [
    {
     "name": "stdout",
     "output_type": "stream",
     "text": [
      "Validation loss / accuracy\n"
     ]
    },
    {
     "data": {
      "image/png": "[encoded data removed]",
      "text/plain": [
       "<Figure size 864x144 with 2 Axes>"
      ]
     },
     "metadata": {
      "needs_background": "light"
     },
     "output_type": "display_data"
    }
   ],
   "source": [
    "losses = hist1.history['val_loss'] + hist2.history['val_loss']\n",
    "accuracies = hist1.history['val_acc'] + hist2.history['val_acc']\n",
    "print(\"Validation loss / accuracy\")\n",
    "plot_results(losses,accuracies)"
   ]
  },
  {
   "cell_type": "code",
   "execution_count": 42,
   "metadata": {},
   "outputs": [
    {
     "name": "stdout",
     "output_type": "stream",
     "text": [
      "Validation data, confusion\n"
     ]
    },
    {
     "data": {
      "text/plain": [
       "<Figure size 432x288 with 0 Axes>"
      ]
     },
     "metadata": {},
     "output_type": "display_data"
    },
    {
     "data": {
      "image/png": "[encoded data removed]",
      "text/plain": [
       "<Figure size 936x720 with 2 Axes>"
      ]
     },
     "metadata": {
      "needs_background": "light"
     },
     "output_type": "display_data"
    },
    {
     "data": {
      "text/plain": [
       "<Figure size 432x288 with 0 Axes>"
      ]
     },
     "metadata": {},
     "output_type": "display_data"
    },
    {
     "data": {
      "image/png": "[encoded data removed]",
      "text/plain": [
       "<Figure size 936x720 with 2 Axes>"
      ]
     },
     "metadata": {
      "needs_background": "light"
     },
     "output_type": "display_data"
    }
   ],
   "source": [
    "# Predict for validation data \n",
    "y_pred = model.predict([validate_summary, validate_review])\n",
    "\n",
    "# Undo one-hot\n",
    "y_pred = undo_one_hot(y_pred, label_list)\n",
    "y_orig = validate['polarity']\n",
    "\n",
    "print(\"Validation data, confusion\")\n",
    "plot_confusion(y_orig, y_pred, label_list)"
   ]
  },
  {
   "cell_type": "code",
   "execution_count": null,
   "metadata": {},
   "outputs": [],
   "source": []
  },
  {
   "cell_type": "code",
   "execution_count": null,
   "metadata": {},
   "outputs": [],
   "source": []
  },
  {
   "cell_type": "code",
   "execution_count": 31,
   "metadata": {},
   "outputs": [
    {
     "name": "stdout",
     "output_type": "stream",
     "text": [
      "__________________________________________________________________________________________________\n",
      "Layer (type)                    Output Shape         Param #     Connected to                     \n",
      "==================================================================================================\n",
      "input_s (InputLayer)            (None, 33)           0                                            \n",
      "__________________________________________________________________________________________________\n",
      "input_r (InputLayer)            (None, 500)          0                                            \n",
      "__________________________________________________________________________________________________\n",
      "embedding_3 (Embedding)         multiple             2988000     input_s[0][0]                    \n",
      "                                                                 input_r[0][0]                    \n",
      "__________________________________________________________________________________________________\n",
      "gru_1 (GRU)                     (None, 100)          120300      embedding_3[0][0]                \n",
      "__________________________________________________________________________________________________\n",
      "gru_2 (GRU)                     (None, 100)          120300      embedding_3[1][0]                \n",
      "__________________________________________________________________________________________________\n",
      "concatenate_2 (Concatenate)     (None, 200)          0           gru_1[0][0]                      \n",
      "                                                                 gru_2[0][0]                      \n",
      "__________________________________________________________________________________________________\n",
      "dense_2 (Dense)                 (None, 2)            402         concatenate_2[0][0]              \n",
      "==================================================================================================\n",
      "Total params: 241,002\n",
      "Trainable params: 241,002\n",
      "Non-trainable params: 0\n",
      "__________________________________________________________________________________________________\n",
      "None\n",
      "Train on 9000 samples, validate on 9000 samples\n",
      "Epoch 1/50\n",
      "9000/9000 [==============================] - 87s 10ms/step - loss: 0.6143 - acc: 0.6570 - val_loss: 0.5507 - val_acc: 0.7213\n",
      "Epoch 2/50\n",
      "9000/9000 [==============================] - 23s 3ms/step - loss: 0.5027 - acc: 0.7514 - val_loss: 0.4549 - val_acc: 0.7791\n",
      "Epoch 3/50\n",
      "9000/9000 [==============================] - 23s 3ms/step - loss: 0.4526 - acc: 0.7839 - val_loss: 0.3920 - val_acc: 0.8231\n",
      "Epoch 4/50\n",
      "9000/9000 [==============================] - 23s 3ms/step - loss: 0.4128 - acc: 0.8066 - val_loss: 0.3472 - val_acc: 0.8484\n",
      "Epoch 5/50\n",
      "9000/9000 [==============================] - 23s 3ms/step - loss: 0.3738 - acc: 0.8352 - val_loss: 0.3329 - val_acc: 0.8520\n",
      "Epoch 6/50\n",
      "9000/9000 [==============================] - 23s 3ms/step - loss: 0.3481 - acc: 0.8464 - val_loss: 0.3053 - val_acc: 0.8700\n",
      "Epoch 7/50\n",
      "9000/9000 [==============================] - 23s 3ms/step - loss: 0.3219 - acc: 0.8603 - val_loss: 0.3084 - val_acc: 0.8650\n",
      "Epoch 8/50\n",
      "9000/9000 [==============================] - 23s 3ms/step - loss: 0.3079 - acc: 0.8707 - val_loss: 0.2826 - val_acc: 0.8797\n",
      "Epoch 9/50\n",
      "9000/9000 [==============================] - 23s 3ms/step - loss: 0.2944 - acc: 0.8747 - val_loss: 0.2816 - val_acc: 0.8812\n",
      "Epoch 10/50\n",
      "9000/9000 [==============================] - 23s 3ms/step - loss: 0.2786 - acc: 0.8832 - val_loss: 0.2708 - val_acc: 0.8863\n",
      "Epoch 11/50\n",
      "9000/9000 [==============================] - 23s 3ms/step - loss: 0.2687 - acc: 0.8856 - val_loss: 0.2699 - val_acc: 0.8857\n",
      "Epoch 12/50\n",
      "9000/9000 [==============================] - 23s 3ms/step - loss: 0.2600 - acc: 0.8900 - val_loss: 0.2684 - val_acc: 0.8870\n",
      "Epoch 13/50\n",
      "9000/9000 [==============================] - 23s 3ms/step - loss: 0.2516 - acc: 0.8954 - val_loss: 0.2816 - val_acc: 0.8830\n",
      "Epoch 14/50\n",
      "9000/9000 [==============================] - 23s 3ms/step - loss: 0.2462 - acc: 0.8999 - val_loss: 0.2665 - val_acc: 0.8898\n",
      "Epoch 15/50\n",
      "9000/9000 [==============================] - 23s 3ms/step - loss: 0.2353 - acc: 0.9020 - val_loss: 0.2657 - val_acc: 0.8867\n",
      "Epoch 16/50\n",
      "9000/9000 [==============================] - 23s 3ms/step - loss: 0.2284 - acc: 0.9072 - val_loss: 0.2609 - val_acc: 0.8916\n",
      "Epoch 17/50\n",
      "9000/9000 [==============================] - 23s 3ms/step - loss: 0.2251 - acc: 0.9060 - val_loss: 0.3042 - val_acc: 0.8719\n",
      "Epoch 18/50\n",
      "9000/9000 [==============================] - 23s 3ms/step - loss: 0.2138 - acc: 0.9122 - val_loss: 0.2734 - val_acc: 0.8891\n",
      "Epoch 19/50\n",
      "9000/9000 [==============================] - 23s 3ms/step - loss: 0.2155 - acc: 0.9089 - val_loss: 0.2607 - val_acc: 0.8929\n",
      "Epoch 20/50\n",
      "9000/9000 [==============================] - 23s 3ms/step - loss: 0.2011 - acc: 0.9202 - val_loss: 0.2672 - val_acc: 0.8910\n",
      "Epoch 21/50\n",
      "9000/9000 [==============================] - 23s 3ms/step - loss: 0.1935 - acc: 0.9198 - val_loss: 0.2697 - val_acc: 0.8888\n",
      "Epoch 22/50\n",
      "9000/9000 [==============================] - 23s 3ms/step - loss: 0.1823 - acc: 0.9274 - val_loss: 0.2645 - val_acc: 0.8911\n",
      "Epoch 00022: early stopping\n",
      "Train on 9000 samples, validate on 9000 samples\n",
      "Epoch 1/50\n",
      "9000/9000 [==============================] - 96s 11ms/step - loss: 0.3022 - acc: 0.8984 - val_loss: 0.2512 - val_acc: 0.8950\n",
      "Epoch 2/50\n",
      "9000/9000 [==============================] - 25s 3ms/step - loss: 0.1231 - acc: 0.9553 - val_loss: 0.2694 - val_acc: 0.8993\n",
      "Epoch 3/50\n",
      "9000/9000 [==============================] - 25s 3ms/step - loss: 0.0887 - acc: 0.9674 - val_loss: 0.2877 - val_acc: 0.8958\n",
      "Epoch 4/50\n",
      "9000/9000 [==============================] - 25s 3ms/step - loss: 0.0608 - acc: 0.9788 - val_loss: 0.3203 - val_acc: 0.8954\n",
      "Epoch 00004: early stopping\n",
      "CPU times: user 13min 21s, sys: 53.3 s, total: 14min 14s\n",
      "Wall time: 13min 50s\n"
     ]
    }
   ],
   "source": [
    "%%time\n",
    "# Keras functional API for joined model \n",
    "input_s = Input(shape=(summary_len,), dtype='int32', name='input_s')\n",
    "input_r = Input(shape=(review_len,), dtype='int32', name='input_r')\n",
    "\n",
    "embedding_vector_length = embedding_dim\n",
    "GRU_nodes_summary = 100\n",
    "GRU_nodes_review = 100\n",
    "\n",
    "# emb_s = Embedding(len(vocab_list), embedding_vector_length, mask_zero=True,\n",
    "#                   input_length=summary_len, \n",
    "#                   weights=[embedding_matrix], trainable=False)(input_s)\n",
    "# emb_r = Embedding(len(vocab_list), embedding_vector_length, mask_zero=True,\n",
    "#                   input_length=review_len, \n",
    "#                   weights=[embedding_matrix], trainable=False)(input_r)\n",
    "\n",
    "emb = Embedding(len(vocab_list), embedding_vector_length, mask_zero=True,\n",
    "                weights=[embedding_matrix], trainable=False)\n",
    "\n",
    "emb_s = emb(input_s)\n",
    "emb_r = emb(input_r)\n",
    "\n",
    "gru_s = GRU(GRU_nodes_summary, activation='tanh', recurrent_activation='sigmoid', dropout=0.4, \n",
    "            recurrent_dropout=0.3, kernel_constraint=maxnorm(4), recurrent_constraint=maxnorm(5),\n",
    "            unroll=True, \n",
    "            \n",
    "            use_bias=True, kernel_initializer='glorot_uniform', \n",
    "            recurrent_initializer='orthogonal', bias_initializer='zeros', \n",
    "            kernel_regularizer=None, recurrent_regularizer=None, bias_regularizer=None,\n",
    "            activity_regularizer=None,  \n",
    "            bias_constraint=None, implementation=1, return_sequences=False, return_state=False, \n",
    "            go_backwards=False, stateful=False, reset_after=False)(emb_s)\n",
    "gru_r = GRU(GRU_nodes_review, activation='tanh', recurrent_activation='sigmoid', dropout=0.4, \n",
    "            recurrent_dropout=0.3, unroll=True, \n",
    "          \n",
    "            kernel_constraint=None, recurrent_constraint=None,\n",
    "            use_bias=True, kernel_initializer='glorot_uniform', \n",
    "            recurrent_initializer='orthogonal', bias_initializer='zeros', \n",
    "            kernel_regularizer=None, recurrent_regularizer=None, bias_regularizer=None, \n",
    "            activity_regularizer=None,  \n",
    "            bias_constraint=None, implementation=1, return_sequences=False, return_state=False,\n",
    "            go_backwards=False, stateful=False, reset_after=False)(emb_r)\n",
    "\n",
    "\n",
    "concat = Concatenate()([gru_s, gru_r])\n",
    "output = Dense(len(label_set), activation='softmax')(concat)\n",
    "model = Model([input_s, input_r], output)\n",
    "nadam = keras.optimizers.nadam(lr=0.0006)\n",
    "model.compile(loss='categorical_crossentropy', optimizer=nadam, metrics=['accuracy'])\n",
    "\n",
    "# unfrozen embeddings\n",
    "emb.trainable = True\n",
    "thawn = Model([input_s, input_r], output)\n",
    "thawn.compile(loss='categorical_crossentropy', optimizer=nadam, metrics=['accuracy'])\n",
    "\n",
    "print(model.summary())\n",
    "es = EarlyStopping(monitor='val_loss', mode='min', verbose=1, patience=3)\n",
    "hist1 = model.fit(x=[train_summary, train_review], \n",
    "                 y=y_train, \n",
    "                 validation_data=([validate_summary, validate_review], \n",
    "                                  y_validate), \n",
    "                 epochs=50, batch_size=128, callbacks=[es])\n",
    "\n",
    "hist2 = thawn.fit(x=[train_summary, train_review], \n",
    "                 y=y_train, \n",
    "                 validation_data=([validate_summary, validate_review], \n",
    "                                  y_validate), \n",
    "                 epochs=50, batch_size=128, callbacks=[es])"
   ]
  },
  {
   "cell_type": "code",
   "execution_count": 32,
   "metadata": {
    "scrolled": true
   },
   "outputs": [
    {
     "name": "stdout",
     "output_type": "stream",
     "text": [
      "Training loss / accuracy\n"
     ]
    },
    {
     "data": {
      "image/png": "[encoded data removed]",
      "text/plain": [
       "<Figure size 864x144 with 2 Axes>"
      ]
     },
     "metadata": {
      "needs_background": "light"
     },
     "output_type": "display_data"
    }
   ],
   "source": [
    "losses = hist1.history['loss'] + hist2.history['loss']\n",
    "accuracies = hist1.history['acc'] + hist2.history['acc']\n",
    "print(\"Training loss / accuracy\")\n",
    "plot_results(losses,accuracies)"
   ]
  },
  {
   "cell_type": "code",
   "execution_count": 33,
   "metadata": {
    "scrolled": true
   },
   "outputs": [
    {
     "name": "stdout",
     "output_type": "stream",
     "text": [
      "Validation loss / accuracy\n"
     ]
    },
    {
     "data": {
      "image/png": "[encoded data removed]",
      "text/plain": [
       "<Figure size 864x144 with 2 Axes>"
      ]
     },
     "metadata": {
      "needs_background": "light"
     },
     "output_type": "display_data"
    }
   ],
   "source": [
    "losses = hist1.history['val_loss'] + hist2.history['val_loss']\n",
    "accuracies = hist1.history['val_acc'] + hist2.history['val_acc']\n",
    "print(\"Validation loss / accuracy\")\n",
    "plot_results(losses,accuracies)"
   ]
  },
  {
   "cell_type": "code",
   "execution_count": 34,
   "metadata": {},
   "outputs": [
    {
     "name": "stdout",
     "output_type": "stream",
     "text": [
      "Validation data, confusion\n"
     ]
    },
    {
     "data": {
      "text/plain": [
       "<Figure size 432x288 with 0 Axes>"
      ]
     },
     "metadata": {},
     "output_type": "display_data"
    },
    {
     "data": {
      "image/png": "[encoded data removed]",
      "text/plain": [
       "<Figure size 936x720 with 2 Axes>"
      ]
     },
     "metadata": {
      "needs_background": "light"
     },
     "output_type": "display_data"
    },
    {
     "data": {
      "text/plain": [
       "<Figure size 432x288 with 0 Axes>"
      ]
     },
     "metadata": {},
     "output_type": "display_data"
    },
    {
     "data": {
      "image/png": "[encoded data removed]",
      "text/plain": [
       "<Figure size 936x720 with 2 Axes>"
      ]
     },
     "metadata": {
      "needs_background": "light"
     },
     "output_type": "display_data"
    }
   ],
   "source": [
    "# Predict for validation data \n",
    "y_pred = model.predict([validate_summary, validate_review])\n",
    "\n",
    "# Undo one-hot\n",
    "y_pred = undo_one_hot(y_pred, label_list)\n",
    "y_orig = validate['polarity']\n",
    "\n",
    "print(\"Validation data, confusion\")\n",
    "plot_confusion(y_orig, y_pred, label_list)"
   ]
  },
  {
   "cell_type": "code",
   "execution_count": null,
   "metadata": {},
   "outputs": [],
   "source": []
  },
  {
   "cell_type": "code",
   "execution_count": null,
   "metadata": {},
   "outputs": [],
   "source": []
  },
  {
   "cell_type": "code",
   "execution_count": null,
   "metadata": {},
   "outputs": [],
   "source": [
    "%%time\n",
    "# Keras functional API for joined model w/ metadata\n",
    "input_s = Input(shape=(summary_len,), dtype='int32', name='input_s')\n",
    "input_r = Input(shape=(review_len,), dtype='int32', name='input_r')\n",
    "input_wc_s = Input(shape=(1,), dtype='float32', name='input_wc_s')\n",
    "input_wc_r = Input(shape=(1,), dtype='float32', name='input_wc_r')\n",
    "input_year = Input(shape=(1,), dtype='float32', name='input_year')\n",
    "\n",
    "embedding_vector_length = embedding_dim\n",
    "GRU_nodes_summary = 100\n",
    "GRU_nodes_review = 100\n",
    "\n",
    "emb_s = Embedding(len(vocab_list), embedding_vector_length, mask_zero=True,\n",
    "                  input_length=summary_len, weights=[embedding_matrix], trainable=False)(input_s)\n",
    "emb_r = Embedding(len(vocab_list), embedding_vector_length, mask_zero=True,\n",
    "                  input_length=review_len, weights=[embedding_matrix], trainable=False)(input_r)\n",
    "\n",
    "gru_s = GRU(GRU_nodes_summary, activation='relu', recurrent_activation='sigmoid', dropout=0.3, \n",
    "              recurrent_dropout=0.3, kernel_constraint=maxnorm(4), recurrent_constraint=maxnorm(5),\n",
    "              unroll=True, \n",
    "            \n",
    "              use_bias=True, kernel_initializer='glorot_uniform', \n",
    "              recurrent_initializer='orthogonal', bias_initializer='zeros', \n",
    "              kernel_regularizer=None, recurrent_regularizer=None, bias_regularizer=None, \n",
    "              activity_regularizer=None,  \n",
    "              bias_constraint=None, implementation=1, return_sequences=False, return_state=False, \n",
    "              go_backwards=False, stateful=False, reset_after=False)(emb_s)\n",
    "gru_r = GRU(GRU_nodes_review, activation='relu', recurrent_activation='sigmoid', dropout=0.3, \n",
    "              recurrent_dropout=0.3, unroll=True, \n",
    "              \n",
    "              kernel_constraint=None, recurrent_constraint=None,\n",
    "              use_bias=True, kernel_initializer='glorot_uniform', \n",
    "              recurrent_initializer='orthogonal', bias_initializer='zeros', \n",
    "              kernel_regularizer=None, recurrent_regularizer=None, bias_regularizer=None, \n",
    "              activity_regularizer=None,  \n",
    "              bias_constraint=None, implementation=1, return_sequences=False, return_state=False, \n",
    "              go_backwards=False, stateful=False, reset_after=False)(emb_r)\n",
    "\n",
    "concat1 = Concatenate()([input_wc_s, input_wc_r, input_year])\n",
    "calc = Dense(32, activation='relu')(concat1) \n",
    "\n",
    "concat2 = Concatenate()([gru_s, gru_r, calc])\n",
    "\n",
    "output = Dense(len(label_set), activation='softmax')(concat2)\n",
    "model = Model([input_s, input_r, input_wc_s, input_wc_r, input_year], output)\n",
    "nadam = keras.optimizers.nadam(lr=0.0006)\n",
    "model.compile(loss='categorical_crossentropy', optimizer=nadam, metrics=['accuracy'])\n",
    "print(model.summary())\n",
    "es = EarlyStopping(monitor='val_loss', mode='min', verbose=1, patience=6)\n",
    "hist = model.fit(x=[train_summary, train_review, train['summary_wc'], train['review_wc'], train['year']], \n",
    "                 y=y_train, \n",
    "                 validation_data=([validation_summary, validation_review, \n",
    "                                   validation['summary_wc'], validation['review_wc'],\n",
    "                                   validation['year']], \n",
    "                                  y_validation), \n",
    "                 epochs=50, batch_size=128, callbacks=[es])"
   ]
  },
  {
   "cell_type": "code",
   "execution_count": null,
   "metadata": {
    "scrolled": true
   },
   "outputs": [],
   "source": [
    "losses=hist.history['loss']\n",
    "accuracies=hist.history['acc']\n",
    "print(\"Training loss / accuracy\")\n",
    "plot_results(losses,accuracies)"
   ]
  },
  {
   "cell_type": "code",
   "execution_count": null,
   "metadata": {},
   "outputs": [],
   "source": [
    "losses=hist.history['val_loss']\n",
    "accuracies=hist.history['val_acc']\n",
    "print(\"Validation loss / accuracy\")\n",
    "plot_results(losses,accuracies)"
   ]
  },
  {
   "cell_type": "code",
   "execution_count": null,
   "metadata": {},
   "outputs": [],
   "source": [
    "# Predict for validation data \n",
    "y_pred = model.predict([validation_summary, validation_review, \n",
    "                        validation['summary_wc'], validation['review_wc'],\n",
    "                        validation['year']])\n",
    "\n",
    "# Undo one-hot\n",
    "y_pred = undo_one_hot(y_pred, label_list)\n",
    "y_orig = validation['polarity']\n",
    "\n",
    "print(\"Validation data, confusion\")\n",
    "plot_confusion(y_orig, y_pred, label_list)"
   ]
  },
  {
   "cell_type": "code",
   "execution_count": null,
   "metadata": {},
   "outputs": [],
   "source": [
    "for weight in model.get_weights():\n",
    "    df = pd.DataFrame(weight)\n",
    "    print(df[df.isnull().any(axis=1)])"
   ]
  },
  {
   "cell_type": "code",
   "execution_count": null,
   "metadata": {},
   "outputs": [],
   "source": [
    "# remove embeddings by removing \"weights=[embedding_matrix]\" from Keras code"
   ]
  },
  {
   "cell_type": "code",
   "execution_count": null,
   "metadata": {
    "scrolled": true
   },
   "outputs": [],
   "source": [
    "%%time\n",
    "# create and run the model (with summaries)\n",
    "embedding_vector_length = embedding_dim\n",
    "model = Sequential()\n",
    "model.add(Embedding(len(vocab_list), embedding_vector_length, mask_zero=True,\n",
    "                    input_length=summary_len, weights=[embedding_matrix], trainable=False))\n",
    "model.add(GRU(100, activation='relu', recurrent_activation='sigmoid', dropout=0.3, \n",
    "              recurrent_dropout=0.3, kernel_constraint=maxnorm(4), recurrent_constraint=maxnorm(5),\n",
    "\n",
    "              use_bias=True, kernel_initializer='glorot_uniform', \n",
    "              recurrent_initializer='orthogonal', bias_initializer='zeros', \n",
    "              kernel_regularizer=None, recurrent_regularizer=None, bias_regularizer=None, \n",
    "              activity_regularizer=None,  \n",
    "              bias_constraint=None, implementation=1, return_sequences=False, return_state=False, \n",
    "              go_backwards=False, stateful=False, unroll=True, reset_after=False))\n",
    "model.add(Dense(len(label_set), activation='softmax'))\n",
    "nadam = keras.optimizers.nadam(lr=0.0006)\n",
    "model.compile(loss='categorical_crossentropy', optimizer=nadam, metrics=['accuracy'])\n",
    "print(model.summary())\n",
    "es = EarlyStopping(monitor='val_loss', mode='min', verbose=1, patience=6)\n",
    "hist = model.fit(x=train_summary, y=y_train, \n",
    "                 validation_data=(validation_summary, y_validation), \n",
    "                 epochs=50, batch_size=128, callbacks=[es])"
   ]
  },
  {
   "cell_type": "code",
   "execution_count": null,
   "metadata": {
    "scrolled": false
   },
   "outputs": [],
   "source": [
    "losses=hist.history['loss']\n",
    "accuracies=hist.history['acc']\n",
    "print(\"Training loss / accuracy\")\n",
    "plot_results(losses,accuracies)"
   ]
  },
  {
   "cell_type": "code",
   "execution_count": null,
   "metadata": {},
   "outputs": [],
   "source": [
    "losses=hist.history['val_loss']\n",
    "accuracies=hist.history['val_acc']\n",
    "print(\"Validation loss / accuracy\")\n",
    "plot_results(losses,accuracies)"
   ]
  },
  {
   "cell_type": "code",
   "execution_count": null,
   "metadata": {},
   "outputs": [],
   "source": [
    "# Predict for validation data \n",
    "y_pred = model.predict(validation_summary)\n",
    "\n",
    "# Undo one-hot\n",
    "y_pred = undo_one_hot(y_pred, label_list)\n",
    "y_orig = validation['polarity']\n",
    "\n",
    "print(\"Validation data, confusion\")\n",
    "plot_confusion(y_orig, y_pred, label_list)"
   ]
  },
  {
   "cell_type": "code",
   "execution_count": null,
   "metadata": {},
   "outputs": [],
   "source": [
    "for weight in model.get_weights():\n",
    "    df = pd.DataFrame(weight)\n",
    "    print(df[df.isnull().any(axis=1)])"
   ]
  },
  {
   "cell_type": "code",
   "execution_count": null,
   "metadata": {
    "scrolled": true
   },
   "outputs": [],
   "source": [
    "%%time\n",
    "# create and run the model (with reviews)\n",
    "embedding_vector_length = embedding_dim\n",
    "model = Sequential()\n",
    "model.add(Embedding(len(vocab_list), embedding_vector_length, mask_zero=True,\n",
    "                    input_length=review_len, weights=[embedding_matrix], trainable=False))\n",
    "model.add(GRU(100, activation='relu', recurrent_activation='sigmoid', dropout=0.3, \n",
    "              recurrent_dropout=0.3, \n",
    "              \n",
    "              kernel_constraint=None, recurrent_constraint=None,\n",
    "              use_bias=True, kernel_initializer='glorot_uniform', \n",
    "              recurrent_initializer='orthogonal', bias_initializer='zeros', \n",
    "              kernel_regularizer=None, recurrent_regularizer=None, bias_regularizer=None, \n",
    "              activity_regularizer=None,  \n",
    "              bias_constraint=None, implementation=1, return_sequences=False, return_state=False, \n",
    "              go_backwards=False, stateful=False, unroll=True, reset_after=False))\n",
    "model.add(Dense(len(label_set), activation='softmax'))\n",
    "nadam = keras.optimizers.nadam(lr=0.0006, clipvalue=0.5)\n",
    "model.compile(loss='categorical_crossentropy', optimizer=nadam, metrics=['accuracy'])\n",
    "print(model.summary())\n",
    "es = EarlyStopping(monitor='val_loss', mode='min', verbose=1, patience=6)\n",
    "hist = model.fit(x=train_review, y=y_train, \n",
    "                 validation_data=(validation_review, y_validation), \n",
    "                 epochs=50, batch_size=128, callbacks=[es])"
   ]
  },
  {
   "cell_type": "code",
   "execution_count": null,
   "metadata": {
    "scrolled": true
   },
   "outputs": [],
   "source": [
    "losses=hist.history['loss']\n",
    "accuracies=hist.history['acc']\n",
    "print(\"Training loss / accuracy\")\n",
    "plot_results(losses,accuracies)"
   ]
  },
  {
   "cell_type": "code",
   "execution_count": null,
   "metadata": {
    "scrolled": true
   },
   "outputs": [],
   "source": [
    "losses=hist.history['val_loss']\n",
    "accuracies=hist.history['val_acc']\n",
    "print(\"Validation loss / accuracy\")\n",
    "plot_results(losses,accuracies)"
   ]
  },
  {
   "cell_type": "code",
   "execution_count": null,
   "metadata": {},
   "outputs": [],
   "source": [
    "for weight in model.get_weights():\n",
    "    df = pd.DataFrame(weight)\n",
    "    print(df[df.isnull().any(axis=1)])"
   ]
  },
  {
   "cell_type": "code",
   "execution_count": null,
   "metadata": {},
   "outputs": [],
   "source": [
    "# Predict for validation data \n",
    "y_pred = model.predict(validation_review)\n",
    "\n",
    "# Undo one-hot\n",
    "y_pred = undo_one_hot(y_pred, label_list)\n",
    "y_orig = validation['polarity']\n",
    "\n",
    "print(\"Validation data, confusion\")\n",
    "plot_confusion(y_orig, y_pred, label_list)"
   ]
  },
  {
   "cell_type": "code",
   "execution_count": null,
   "metadata": {},
   "outputs": [],
   "source": []
  },
  {
   "cell_type": "code",
   "execution_count": null,
   "metadata": {},
   "outputs": [],
   "source": []
  }
 ],
 "metadata": {
  "kernelspec": {
   "display_name": "Python 3",
   "language": "python",
   "name": "python3"
  },
  "language_info": {
   "codemirror_mode": {
    "name": "ipython",
    "version": 3
   },
   "file_extension": ".py",
   "mimetype": "text/x-python",
   "name": "python",
   "nbconvert_exporter": "python",
   "pygments_lexer": "ipython3",
   "version": "3.6.8"
  }
 },
 "nbformat": 4,
 "nbformat_minor": 2
}
