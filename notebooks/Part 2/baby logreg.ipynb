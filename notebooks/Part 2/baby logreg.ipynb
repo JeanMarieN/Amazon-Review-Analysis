{
 "cells": [
  {
   "cell_type": "code",
   "execution_count": 1,
   "metadata": {
    "collapsed": true
   },
   "outputs": [],
   "source": [
    "from sklearn.model_selection import train_test_split"
   ]
  },
  {
   "cell_type": "code",
   "execution_count": 2,
   "metadata": {
    "collapsed": true
   },
   "outputs": [],
   "source": [
    "from collections import Counter"
   ]
  },
  {
   "cell_type": "code",
   "execution_count": 3,
   "metadata": {
    "collapsed": true
   },
   "outputs": [],
   "source": [
    "import pandas as pd\n",
    "import numpy as np\n",
    "import matplotlib.pyplot as plt"
   ]
  },
  {
   "cell_type": "code",
   "execution_count": 4,
   "metadata": {},
   "outputs": [
    {
     "name": "stderr",
     "output_type": "stream",
     "text": [
      "C:\\Users\\lisam\\Anaconda3\\lib\\site-packages\\h5py\\__init__.py:34: FutureWarning: Conversion of the second argument of issubdtype from `float` to `np.floating` is deprecated. In future, it will be treated as `np.float64 == np.dtype(float).type`.\n",
      "  from ._conv import register_converters as _register_converters\n",
      "Using TensorFlow backend.\n"
     ]
    }
   ],
   "source": [
    "import nose\n",
    "import scipy as sp\n",
    "import keras\n",
    "%matplotlib inline"
   ]
  },
  {
   "cell_type": "code",
   "execution_count": 5,
   "metadata": {
    "collapsed": true
   },
   "outputs": [],
   "source": [
    "from sklearn.linear_model import LogisticRegression"
   ]
  },
  {
   "cell_type": "code",
   "execution_count": 6,
   "metadata": {
    "collapsed": true
   },
   "outputs": [],
   "source": [
    "from sklearn.feature_extraction.text import CountVectorizer"
   ]
  },
  {
   "cell_type": "code",
   "execution_count": 7,
   "metadata": {
    "collapsed": true
   },
   "outputs": [],
   "source": [
    "import tensorflow as tf"
   ]
  },
  {
   "cell_type": "code",
   "execution_count": 8,
   "metadata": {
    "collapsed": true
   },
   "outputs": [],
   "source": [
    "from ast import literal_eval"
   ]
  },
  {
   "cell_type": "code",
   "execution_count": 9,
   "metadata": {},
   "outputs": [],
   "source": [
    "from preprocess import word_index"
   ]
  },
  {
   "cell_type": "code",
   "execution_count": 11,
   "metadata": {
    "collapsed": true
   },
   "outputs": [],
   "source": [
    "data = pd.read_csv(\"tok_sentence_baby_reviews.csv\")"
   ]
  },
  {
   "cell_type": "code",
   "execution_count": 14,
   "metadata": {
    "collapsed": true
   },
   "outputs": [],
   "source": [
    "train, val, test = np.split(data.sample(frac=1), [int(.6*len(data)), int(.8*len(data))])"
   ]
  },
  {
   "cell_type": "code",
   "execution_count": 19,
   "metadata": {
    "collapsed": true
   },
   "outputs": [],
   "source": [
    "def text_to_num(traint):\n",
    "    count_v = CountVectorizer()\n",
    "    xt_count = count_v.fit_transform(traint)\n",
    "    x_new_c = count_v.transform(textt)\n",
    "    \n",
    "    return xt_count, x_new_C"
   ]
  },
  {
   "cell_type": "code",
   "execution_count": 60,
   "metadata": {
    "collapsed": true
   },
   "outputs": [],
   "source": [
    "temp_y = pd.get_dummies(baby_reviews['polarity'], drop_first=True)\n",
    "temp_x = baby_reviews['reviewText']"
   ]
  },
  {
   "cell_type": "code",
   "execution_count": 61,
   "metadata": {
    "collapsed": true
   },
   "outputs": [],
   "source": [
    "train = pd.read_csv('2nd_year_final/data/processed/tok_phase1_train80.csv')\n",
    "val = pd.read_csv('2nd_year_final/data/processed/tok_phase1_validate10.csv')\n",
    "test = pd.read_csv('2nd_year_final/data/processed/tok_phase1_test10.csv')"
   ]
  },
  {
   "cell_type": "code",
   "execution_count": 12,
   "metadata": {},
   "outputs": [
    {
     "data": {
      "text/html": [
       "<div>\n",
       "<style>\n",
       "    .dataframe thead tr:only-child th {\n",
       "        text-align: right;\n",
       "    }\n",
       "\n",
       "    .dataframe thead th {\n",
       "        text-align: left;\n",
       "    }\n",
       "\n",
       "    .dataframe tbody tr th {\n",
       "        vertical-align: top;\n",
       "    }\n",
       "</style>\n",
       "<table border=\"1\" class=\"dataframe\">\n",
       "  <thead>\n",
       "    <tr style=\"text-align: right;\">\n",
       "      <th></th>\n",
       "      <th>group_id</th>\n",
       "      <th>sentiment</th>\n",
       "      <th>uuid</th>\n",
       "      <th>sentence_tokens</th>\n",
       "      <th>sentence_wc</th>\n",
       "      <th>sentence_wc_std</th>\n",
       "    </tr>\n",
       "  </thead>\n",
       "  <tbody>\n",
       "    <tr>\n",
       "      <th>0</th>\n",
       "      <td>1</td>\n",
       "      <td>neg</td>\n",
       "      <td>1114646400B000056OUGA3FFDK09UJS1TD</td>\n",
       "      <td>['i', 'am', 'primarily', 'breastfeeding', 'but...</td>\n",
       "      <td>20</td>\n",
       "      <td>0.249451</td>\n",
       "    </tr>\n",
       "    <tr>\n",
       "      <th>1</th>\n",
       "      <td>1</td>\n",
       "      <td>neu</td>\n",
       "      <td>1114646400B000056OUGA3FFDK09UJS1TD</td>\n",
       "      <td>['i', 'discovered', 'medela', 'microwave', 'st...</td>\n",
       "      <td>16</td>\n",
       "      <td>-0.118286</td>\n",
       "    </tr>\n",
       "    <tr>\n",
       "      <th>2</th>\n",
       "      <td>1</td>\n",
       "      <td>neu</td>\n",
       "      <td>1114646400B000056OUGA3FFDK09UJS1TD</td>\n",
       "      <td>['i', 'feel', 'badly', 'for', 'the', 'waste', ...</td>\n",
       "      <td>16</td>\n",
       "      <td>-0.118286</td>\n",
       "    </tr>\n",
       "    <tr>\n",
       "      <th>3</th>\n",
       "      <td>1</td>\n",
       "      <td>pos</td>\n",
       "      <td>1114646400B000056OUGA3FFDK09UJS1TD</td>\n",
       "      <td>['and', 'not', 'space', 'consuming', '.']</td>\n",
       "      <td>5</td>\n",
       "      <td>-1.129561</td>\n",
       "    </tr>\n",
       "    <tr>\n",
       "      <th>4</th>\n",
       "      <td>1</td>\n",
       "      <td>pos</td>\n",
       "      <td>1114646400B000056OUGA3FFDK09UJS1TD</td>\n",
       "      <td>['plus', 'you', 'can', 'use', 'them', 'during'...</td>\n",
       "      <td>11</td>\n",
       "      <td>-0.577956</td>\n",
       "    </tr>\n",
       "  </tbody>\n",
       "</table>\n",
       "</div>"
      ],
      "text/plain": [
       "   group_id sentiment                                uuid  \\\n",
       "0         1       neg  1114646400B000056OUGA3FFDK09UJS1TD   \n",
       "1         1       neu  1114646400B000056OUGA3FFDK09UJS1TD   \n",
       "2         1       neu  1114646400B000056OUGA3FFDK09UJS1TD   \n",
       "3         1       pos  1114646400B000056OUGA3FFDK09UJS1TD   \n",
       "4         1       pos  1114646400B000056OUGA3FFDK09UJS1TD   \n",
       "\n",
       "                                     sentence_tokens  sentence_wc  \\\n",
       "0  ['i', 'am', 'primarily', 'breastfeeding', 'but...           20   \n",
       "1  ['i', 'discovered', 'medela', 'microwave', 'st...           16   \n",
       "2  ['i', 'feel', 'badly', 'for', 'the', 'waste', ...           16   \n",
       "3          ['and', 'not', 'space', 'consuming', '.']            5   \n",
       "4  ['plus', 'you', 'can', 'use', 'them', 'during'...           11   \n",
       "\n",
       "   sentence_wc_std  \n",
       "0         0.249451  \n",
       "1        -0.118286  \n",
       "2        -0.118286  \n",
       "3        -1.129561  \n",
       "4        -0.577956  "
      ]
     },
     "execution_count": 12,
     "metadata": {},
     "output_type": "execute_result"
    }
   ],
   "source": [
    "data.head()"
   ]
  },
  {
   "cell_type": "code",
   "execution_count": 15,
   "metadata": {
    "collapsed": true
   },
   "outputs": [],
   "source": [
    "for frame in [train, val, test]:\n",
    "    for col in ['sentence_tokens']:\n",
    "        frame[col] = frame[col].map(literal_eval)"
   ]
  },
  {
   "cell_type": "code",
   "execution_count": 16,
   "metadata": {
    "collapsed": true
   },
   "outputs": [],
   "source": [
    "from scipy import sparse\n",
    "\n",
    "def create_one_hot(labels, label_dict):\n",
    "    \"\"\"\n",
    "    Args:\n",
    "        labels:        array of labels, e.g. NumPy array or Pandas Series\n",
    "        label_dict:    dict of label indices\n",
    "    Return:\n",
    "        one_hot_numpy: sparse CSR 2d array of one-hot vectors\n",
    "    \"\"\"\n",
    "    one_hot_numpy = sparse.dok_matrix((len(labels), len(label_dict)), dtype=np.int8)\n",
    "    for i, label in enumerate(labels):\n",
    "        one_hot_numpy[i, label_dict[label]] = 1\n",
    "    return sparse.csr_matrix(one_hot_numpy) \n",
    "\n",
    "def undo_one_hot(pred, label_list):\n",
    "    \"\"\"\n",
    "    \n",
    "    Args: \n",
    "        pred:       NumPy array of one-hot predicted classes\n",
    "        label_list: a list of the label strings\n",
    "    Return:\n",
    "        label_pred: a list of predicted labels\n",
    "    \"\"\"\n",
    "    label_pred = [label_list[np.argmax(row)] for row in pred]\n",
    "    return label_pred\n",
    "    # this could probably be done awesomely fast as NumPy vectorised but it works"
   ]
  },
  {
   "cell_type": "code",
   "execution_count": 17,
   "metadata": {
    "collapsed": true
   },
   "outputs": [],
   "source": [
    "def create_bow(docs, vocab_map):\n",
    "    one_hot_numpy = sparse.dok_matrix((len(docs), len(vocab_map)), dtype=np.int8)\n",
    "    for i, doc in enumerate(docs):\n",
    "        for _j, token in enumerate(doc):\n",
    "            if token in vocab_map:\n",
    "                one_hot_numpy[i, vocab_map[token]] = 1\n",
    "            \n",
    "    return sparse.csr_matrix(one_hot_numpy) "
   ]
  },
  {
   "cell_type": "code",
   "execution_count": 19,
   "metadata": {},
   "outputs": [],
   "source": [
    "# label set\n",
    "label_set = set(train['sentiment'].unique())\n",
    "\n",
    "# label list and int map\n",
    "label_list = sorted(label_set)\n",
    "label_map = {word: index for index, word in enumerate(label_list)}"
   ]
  },
  {
   "cell_type": "code",
   "execution_count": 21,
   "metadata": {},
   "outputs": [
    {
     "name": "stdout",
     "output_type": "stream",
     "text": [
      "7500 tokens before discarding those that appear less than 2 times.\n",
      "4106 tokens after discarding those that appear less than 2 times.\n"
     ]
    }
   ],
   "source": [
    "### Preprocessing \n",
    "# declare the padding and unknown symbols\n",
    "pad_mask_int = 0\n",
    "pad_mask_sym = '==pad_mask=='\n",
    "unknown_int = 1\n",
    "unknown_sym = '==unknown_sym=='\n",
    "\n",
    "# vocabulary set\n",
    "vocab_counter = Counter()\n",
    "for doc in train['sentence_tokens']:\n",
    "    vocab_counter.update(doc)    \n",
    "\n",
    "min_times_word_used = 2 # if at least 2 then the model will be prepared for unknown words in test and validation sets\n",
    "print(len(vocab_counter), \"tokens before discarding those that appear less than {} times.\".format(min_times_word_used))\n",
    "for key in list(vocab_counter.keys()):\n",
    "    if vocab_counter[key] < min_times_word_used: \n",
    "        vocab_counter.pop(key)\n",
    "print(len(vocab_counter), \"tokens after discarding those that appear less than {} times.\".format(min_times_word_used))   \n",
    "vocab_set = set(vocab_counter.keys())\n",
    "\n",
    "# vocabulary list and int map\n",
    "vocab_list = [pad_mask_sym, unknown_sym] + sorted(vocab_set)\n",
    "vocab_map = {word: index for index, word in enumerate(vocab_list)}"
   ]
  },
  {
   "cell_type": "code",
   "execution_count": 23,
   "metadata": {
    "collapsed": true
   },
   "outputs": [],
   "source": [
    "train_sentence = create_bow(train['sentence_tokens'], vocab_map)"
   ]
  },
  {
   "cell_type": "code",
   "execution_count": 24,
   "metadata": {
    "collapsed": true
   },
   "outputs": [],
   "source": [
    "test_sentence = create_bow(test['sentence_tokens'], vocab_map)"
   ]
  },
  {
   "cell_type": "code",
   "execution_count": 25,
   "metadata": {
    "collapsed": true
   },
   "outputs": [],
   "source": [
    "y_train = create_one_hot(train['sentiment'], label_map)"
   ]
  },
  {
   "cell_type": "code",
   "execution_count": 30,
   "metadata": {},
   "outputs": [],
   "source": [
    "x_train = train_sentence"
   ]
  },
  {
   "cell_type": "code",
   "execution_count": 28,
   "metadata": {
    "collapsed": true
   },
   "outputs": [],
   "source": [
    "y_val = create_one_hot(val['sentiment'], label_map)"
   ]
  },
  {
   "cell_type": "code",
   "execution_count": 27,
   "metadata": {
    "collapsed": true
   },
   "outputs": [],
   "source": [
    "x_val = create_bow(val['sentiment'], vocab_map) "
   ]
  },
  {
   "cell_type": "code",
   "execution_count": 31,
   "metadata": {},
   "outputs": [],
   "source": [
    "y_test = create_one_hot(test['sentiment'], label_map)\n",
    "x_test = test_sentence"
   ]
  },
  {
   "cell_type": "code",
   "execution_count": 32,
   "metadata": {
    "collapsed": true
   },
   "outputs": [],
   "source": [
    "clf = LogisticRegression(random_state=0, solver='sag', multi_class='multinomial',  max_iter=200)"
   ]
  },
  {
   "cell_type": "code",
   "execution_count": 33,
   "metadata": {
    "collapsed": true
   },
   "outputs": [],
   "source": [
    "mm = np.array(y_train[:,0].todense()).ravel()"
   ]
  },
  {
   "cell_type": "code",
   "execution_count": 34,
   "metadata": {
    "collapsed": true
   },
   "outputs": [],
   "source": [
    "nn = np.array(y_val[:,0].todense()).ravel()"
   ]
  },
  {
   "cell_type": "code",
   "execution_count": 35,
   "metadata": {
    "collapsed": true
   },
   "outputs": [],
   "source": [
    "tt = np.array(y_test[:,0].todense()).ravel()"
   ]
  },
  {
   "cell_type": "code",
   "execution_count": 36,
   "metadata": {},
   "outputs": [
    {
     "name": "stdout",
     "output_type": "stream",
     "text": [
      "Wall time: 431 ms\n"
     ]
    },
    {
     "data": {
      "text/plain": [
       "LogisticRegression(C=1.0, class_weight=None, dual=False, fit_intercept=True,\n",
       "          intercept_scaling=1, max_iter=200, multi_class='multinomial',\n",
       "          n_jobs=1, penalty='l2', random_state=0, solver='sag', tol=0.0001,\n",
       "          verbose=0, warm_start=False)"
      ]
     },
     "execution_count": 36,
     "metadata": {},
     "output_type": "execute_result"
    }
   ],
   "source": [
    "%%time\n",
    "clf.fit(x_train, mm)"
   ]
  },
  {
   "cell_type": "code",
   "execution_count": 37,
   "metadata": {},
   "outputs": [
    {
     "data": {
      "text/plain": [
       "array([0, 0, 0, ..., 1, 0, 0], dtype=int8)"
      ]
     },
     "execution_count": 37,
     "metadata": {},
     "output_type": "execute_result"
    }
   ],
   "source": [
    "clf.predict(x_train)"
   ]
  },
  {
   "cell_type": "code",
   "execution_count": 38,
   "metadata": {},
   "outputs": [
    {
     "data": {
      "text/plain": [
       "array([[0.55327784, 0.44672216],\n",
       "       [0.52838502, 0.47161498],\n",
       "       [0.510774  , 0.489226  ],\n",
       "       ...,\n",
       "       [0.47963745, 0.52036255],\n",
       "       [0.67739846, 0.32260154],\n",
       "       [0.69606868, 0.30393132]])"
      ]
     },
     "execution_count": 38,
     "metadata": {},
     "output_type": "execute_result"
    }
   ],
   "source": [
    "clf.predict_proba(x_train)"
   ]
  },
  {
   "cell_type": "code",
   "execution_count": 40,
   "metadata": {},
   "outputs": [
    {
     "name": "stdout",
     "output_type": "stream",
     "text": [
      "Training accuracy with LBFGS solver: 0.8888415672913118\n"
     ]
    }
   ],
   "source": [
    "# lbfgs\n",
    "lbfgs_train = clf.score(x_train, mm)\n",
    "print(\"Training accuracy with LBFGS solver: %s\" % lbfgs_train)"
   ]
  },
  {
   "cell_type": "code",
   "execution_count": 41,
   "metadata": {},
   "outputs": [
    {
     "name": "stdout",
     "output_type": "stream",
     "text": [
      "Validation accuracy with LBFGS solver: 0.7192590226764612\n"
     ]
    }
   ],
   "source": [
    "# lbfgs\n",
    "lbfgs_val = clf.score(x_val, nn)\n",
    "print(\"Validation accuracy with LBFGS solver: %s\" % lbfgs_val)"
   ]
  },
  {
   "cell_type": "code",
   "execution_count": 42,
   "metadata": {},
   "outputs": [
    {
     "name": "stdout",
     "output_type": "stream",
     "text": [
      "Training accuracy with Newton CG solver: 0.8888415672913118\n"
     ]
    }
   ],
   "source": [
    "# newton-cg\n",
    "ngc_train = clf.score(x_train, mm)\n",
    "print(\"Training accuracy with Newton CG solver: %s\" % ngc_train)"
   ]
  },
  {
   "cell_type": "code",
   "execution_count": 43,
   "metadata": {},
   "outputs": [
    {
     "name": "stdout",
     "output_type": "stream",
     "text": [
      "Training accuracy with Newton CG solver: 0.7192590226764612\n"
     ]
    }
   ],
   "source": [
    "# newton-cg\n",
    "ncg_val = clf.score(x_val, nn)\n",
    "print(\"Training accuracy with Newton CG solver: %s\" % ncg_val)"
   ]
  },
  {
   "cell_type": "code",
   "execution_count": 44,
   "metadata": {},
   "outputs": [
    {
     "name": "stdout",
     "output_type": "stream",
     "text": [
      "Training accuracy with SAG solver: 0.8888415672913118\n"
     ]
    }
   ],
   "source": [
    "# sag\n",
    "sag_train = clf.score(x_train, mm)\n",
    "print(\"Training accuracy with SAG solver: %s\" % sag_train)"
   ]
  },
  {
   "cell_type": "code",
   "execution_count": 45,
   "metadata": {},
   "outputs": [
    {
     "name": "stdout",
     "output_type": "stream",
     "text": [
      "Training accuracy with SAG solver: 0.7192590226764612\n"
     ]
    }
   ],
   "source": [
    "# sag\n",
    "sag_val = clf.score(x_val, nn)\n",
    "print(\"Training accuracy with SAG solver: %s\" % sag_val)"
   ]
  },
  {
   "cell_type": "code",
   "execution_count": 46,
   "metadata": {},
   "outputs": [
    {
     "data": {
      "text/plain": [
       "LogisticRegression(C=1.0, class_weight=None, dual=False, fit_intercept=True,\n",
       "          intercept_scaling=1, max_iter=200, multi_class='multinomial',\n",
       "          n_jobs=1, penalty='l2', random_state=0, solver='sag', tol=0.0001,\n",
       "          verbose=0, warm_start=False)"
      ]
     },
     "execution_count": 46,
     "metadata": {},
     "output_type": "execute_result"
    }
   ],
   "source": [
    "clf.fit(x_test, tt)"
   ]
  },
  {
   "cell_type": "code",
   "execution_count": 47,
   "metadata": {},
   "outputs": [
    {
     "data": {
      "text/plain": [
       "array([1, 0, 0, ..., 1, 0, 0], dtype=int8)"
      ]
     },
     "execution_count": 47,
     "metadata": {},
     "output_type": "execute_result"
    }
   ],
   "source": [
    "clf.predict(x_test)"
   ]
  },
  {
   "cell_type": "code",
   "execution_count": 48,
   "metadata": {},
   "outputs": [
    {
     "data": {
      "text/plain": [
       "array([[0.39301926, 0.60698074],\n",
       "       [0.78371874, 0.21628126],\n",
       "       [0.65573386, 0.34426614],\n",
       "       ...,\n",
       "       [0.22148942, 0.77851058],\n",
       "       [0.69521015, 0.30478985],\n",
       "       [0.67430448, 0.32569552]])"
      ]
     },
     "execution_count": 48,
     "metadata": {},
     "output_type": "execute_result"
    }
   ],
   "source": [
    "clf.predict_proba(x_test)"
   ]
  },
  {
   "cell_type": "code",
   "execution_count": 49,
   "metadata": {},
   "outputs": [
    {
     "name": "stdout",
     "output_type": "stream",
     "text": [
      "Training accuracy with SAG solver: 0.9300542957521558\n"
     ]
    }
   ],
   "source": [
    "# sag\n",
    "sag_test = clf.score(x_test, tt)\n",
    "print(\"Training accuracy with SAG solver: %s\" % sag_test)"
   ]
  },
  {
   "cell_type": "code",
   "execution_count": 33,
   "metadata": {
    "collapsed": true
   },
   "outputs": [],
   "source": [
    "import matplotlib.pyplot as plt"
   ]
  },
  {
   "cell_type": "code",
   "execution_count": 47,
   "metadata": {},
   "outputs": [
    {
     "data": {
      "image/png": "[encoded data removed]",
      "text/plain": [
       "<Figure size 432x288 with 1 Axes>"
      ]
     },
     "metadata": {},
     "output_type": "display_data"
    }
   ],
   "source": [
    "y = [1,2,3]\n",
    "lbfgs = [97.8, 86.8, 86.4] \n",
    "newton = [98.8, 86.7,86.5] \n",
    "sag = [97.4, 87.2, 87.2] \n",
    "\n",
    "plt.plot(y, lbfgs)\n",
    "plt.plot(y, newton)\n",
    "plt.plot(y, sag)\n",
    "\n",
    "\n",
    "plt.legend(['LBFGS', 'Newton-CG', 'SAG'], loc='upper right')\n",
    "plt.xticks(np.arange(4), ('','Training', 'Validation', 'Test'))\n",
    "plt.yticks([80,100])\n",
    "\n",
    "plt.show()"
   ]
  },
  {
   "cell_type": "code",
   "execution_count": null,
   "metadata": {
    "collapsed": true
   },
   "outputs": [],
   "source": []
  }
 ],
 "metadata": {
  "kernelspec": {
   "display_name": "Python 3",
   "language": "python",
   "name": "python3"
  },
  "language_info": {
   "codemirror_mode": {
    "name": "ipython",
    "version": 3
   },
   "file_extension": ".py",
   "mimetype": "text/x-python",
   "name": "python",
   "nbconvert_exporter": "python",
   "pygments_lexer": "ipython3",
   "version": "3.6.8"
  }
 },
 "nbformat": 4,
 "nbformat_minor": 2
}
